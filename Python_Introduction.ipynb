{
 "cells": [
  {
   "cell_type": "code",
   "execution_count": 2,
   "id": "1826c51d",
   "metadata": {},
   "outputs": [
    {
     "data": {
      "text/plain": [
       "[0, 1, 2, 3, 4, 5, 6, 7, 8, 9, 10, 11, 12, 13, 14, 15, 16, 17, 18, 19]"
      ]
     },
     "execution_count": 2,
     "metadata": {},
     "output_type": "execute_result"
    }
   ],
   "source": [
    "[i for i in range (20)] #For loop syntax in python\n"
   ]
  },
  {
   "cell_type": "code",
   "execution_count": null,
   "id": "c6ca69a5",
   "metadata": {},
   "outputs": [],
   "source": [
    "x=5 # Value of x is declared"
   ]
  },
  {
   "cell_type": "code",
   "execution_count": 7,
   "id": "410822e0",
   "metadata": {},
   "outputs": [],
   "source": [
    "def good_enough(x, guess): \n",
    "    return abs((guess * guess) - x) < 0.00000000001\n",
    "\n",
    "def improve_guess(x, guess): \n",
    "    return (guess + x/guess)/2 \n",
    "\n",
    "def sqrt(x, guess=0.0001): \n",
    "    if good_enough(x, guess): \n",
    "        return guess \n",
    "    else: \n",
    "        return sqrt(x, improve_guess(x, guess))"
   ]
  },
  {
   "cell_type": "code",
   "execution_count": 8,
   "id": "9a013528",
   "metadata": {},
   "outputs": [
    {
     "data": {
      "text/plain": [
       "6.000000000000008"
      ]
     },
     "execution_count": 8,
     "metadata": {},
     "output_type": "execute_result"
    }
   ],
   "source": [
    "sqrt(36) #The square root of the number which you want to calculate\n"
   ]
  },
  {
   "cell_type": "code",
   "execution_count": 9,
   "id": "8ba90804",
   "metadata": {},
   "outputs": [
    {
     "name": "stdout",
     "output_type": "stream",
     "text": [
      "0\n",
      "1\n",
      "2\n",
      "3\n",
      "4\n",
      "5\n",
      "6\n",
      "7\n",
      "8\n",
      "9\n"
     ]
    }
   ],
   "source": [
    "\n",
    "x = 0 #While loop Syntax in Python\n",
    "while (x < 10): \n",
    "    print(x)\n",
    "    x += 1"
   ]
  },
  {
   "cell_type": "code",
   "execution_count": 12,
   "id": "442aae43",
   "metadata": {},
   "outputs": [
    {
     "name": "stdout",
     "output_type": "stream",
     "text": [
      "0\n",
      "1\n",
      "2\n",
      "3\n",
      "4\n"
     ]
    }
   ],
   "source": [
    " for i in range(5): \n",
    "    print(i)"
   ]
  },
  {
   "cell_type": "code",
   "execution_count": 14,
   "id": "bb06189f",
   "metadata": {},
   "outputs": [],
   "source": [
    "l=[2,3,4,5,6,7] #For creating list in python\n"
   ]
  },
  {
   "cell_type": "code",
   "execution_count": 28,
   "id": "e7b0047d",
   "metadata": {},
   "outputs": [
    {
     "name": "stdout",
     "output_type": "stream",
     "text": [
      "Square root of numbers mentioned in the list are 2=1.4142135623730954\n",
      "Square root of numbers mentioned in the list are 3=1.7320508075691248\n",
      "Square root of numbers mentioned in the list are 4=2.0\n",
      "Square root of numbers mentioned in the list are 5=2.23606797749979\n",
      "Square root of numbers mentioned in the list are 6=2.449489742783178\n",
      "Square root of numbers mentioned in the list are 7=2.6457513110645907\n"
     ]
    }
   ],
   "source": [
    "for i in [2,3,4,5,6,7]:\n",
    "     print(\"Square root of numbers mentioned in the list are \" + str(i) + \"=\" , end=\"\")\n",
    "     print (sqrt(i))"
   ]
  },
  {
   "cell_type": "code",
   "execution_count": 27,
   "id": "aa02a49c",
   "metadata": {},
   "outputs": [
    {
     "name": "stdout",
     "output_type": "stream",
     "text": [
      "one\n",
      "dict_items([(1, 'one'), (2, 'two'), (3, 'three')])\n"
     ]
    }
   ],
   "source": [
    "d = {1: \"one\", \n",
    "     2: \"two\",\n",
    "    3: \"three\"}\n",
    "\n",
    "\n",
    "print(d[1])\n",
    "print(d.items())"
   ]
  },
  {
   "cell_type": "raw",
   "id": "f987a3d1",
   "metadata": {},
   "source": [
    "a=[1,2,3,4,5,6,7,8] \n",
    "b=[2,4,6,7,9,9,3,4]\n",
    "merged=list (zip(a,b))"
   ]
  },
  {
   "cell_type": "code",
   "execution_count": 35,
   "id": "1e982a08",
   "metadata": {},
   "outputs": [
    {
     "data": {
      "text/plain": [
       "[(1, 2), (2, 4), (3, 6), (4, 7), (5, 9), (6, 9), (7, 3), (8, 4)]"
      ]
     },
     "execution_count": 35,
     "metadata": {},
     "output_type": "execute_result"
    }
   ],
   "source": [
    "merged #Merging of two lists"
   ]
  },
  {
   "cell_type": "code",
   "execution_count": 37,
   "id": "e7459bfd",
   "metadata": {},
   "outputs": [
    {
     "data": {
      "text/plain": [
       "{'id': 'p190085', 'name': 'AsjidTahir', 'location': 'Peshawar'}"
      ]
     },
     "execution_count": 37,
     "metadata": {},
     "output_type": "execute_result"
    }
   ],
   "source": [
    "fields = [\"id\", \"name\", \"location\"]\n",
    "values = [\"p190085\", \"AsjidTahir\", \"Peshawar\"]\n",
    "dict(zip(fields, values))"
   ]
  },
  {
   "cell_type": "code",
   "execution_count": 38,
   "id": "43a337d5",
   "metadata": {},
   "outputs": [
    {
     "name": "stdout",
     "output_type": "stream",
     "text": [
      "1 one\n",
      "2 two\n",
      "3 three\n"
     ]
    }
   ],
   "source": [
    "for a, b in d.items(): #For printing the items by using loop\n",
    "    print(a,b)"
   ]
  },
  {
   "cell_type": "code",
   "execution_count": null,
   "id": "a8ac48e2",
   "metadata": {},
   "outputs": [],
   "source": []
  },
  {
   "cell_type": "code",
   "execution_count": 40,
   "id": "e1e46770",
   "metadata": {},
   "outputs": [
    {
     "data": {
      "text/plain": [
       "[1, 2, 3]"
      ]
     },
     "execution_count": 40,
     "metadata": {},
     "output_type": "execute_result"
    }
   ],
   "source": [
    "list(d.keys())"
   ]
  }
 ],
 "metadata": {
  "kernelspec": {
   "display_name": "Python 3",
   "language": "python",
   "name": "python3"
  },
  "language_info": {
   "codemirror_mode": {
    "name": "ipython",
    "version": 3
   },
   "file_extension": ".py",
   "mimetype": "text/x-python",
   "name": "python",
   "nbconvert_exporter": "python",
   "pygments_lexer": "ipython3",
   "version": "3.8.8"
  }
 },
 "nbformat": 4,
 "nbformat_minor": 5
}
