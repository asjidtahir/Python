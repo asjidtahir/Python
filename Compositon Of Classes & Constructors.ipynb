{
 "cells": [
  {
   "cell_type": "code",
   "execution_count": 46,
   "id": "acc6dca6",
   "metadata": {},
   "outputs": [],
   "source": [
    "class Point:  #Class decleration\n",
    "    def __init__(self, x=0,y=0): # Constructors are defined by init\n",
    "        self.x=x  #For accessing members we only use self!!!\n",
    "        self.y=y\n",
    "    def __str__(self): \n",
    "        return \"[\" + str(self.x) + \",\" + str(self.y) + \"]\"\n",
    "    "
   ]
  },
  {
   "cell_type": "code",
   "execution_count": null,
   "id": "897643ef",
   "metadata": {},
   "outputs": [],
   "source": []
  },
  {
   "cell_type": "code",
   "execution_count": 47,
   "id": "1320594a",
   "metadata": {},
   "outputs": [
    {
     "name": "stdout",
     "output_type": "stream",
     "text": [
      "p1 =  0\n",
      "p1 =  [0,0]\n",
      "p2 =  2\n",
      "p2 =  [2,4]\n"
     ]
    }
   ],
   "source": [
    "p1 = Point()   # p1 is a reference variable \n",
    "print(\"p1 = \", p1.x)\n",
    "print(\"p1 = \", p1)\n",
    "\n",
    "\n",
    "p2 = Point(2, 4)    # notice that we do NOT pass in self. That is automatically done for us! \n",
    "\n",
    "\n",
    "print(\"p2 = \", p2.x)\n",
    "print(\"p2 = \", p2)"
   ]
  },
  {
   "cell_type": "code",
   "execution_count": 48,
   "id": "a9ad3a2f",
   "metadata": {},
   "outputs": [
    {
     "name": "stdout",
     "output_type": "stream",
     "text": [
      "[0,0]\n"
     ]
    }
   ],
   "source": [
    "print (p1)\n"
   ]
  },
  {
   "cell_type": "code",
   "execution_count": null,
   "id": "c0553e4c",
   "metadata": {},
   "outputs": [],
   "source": []
  },
  {
   "cell_type": "code",
   "execution_count": 49,
   "id": "fde91f93",
   "metadata": {},
   "outputs": [],
   "source": [
    "#  --------------PYTHON COMPOSITION---------------- #\n",
    "class Shape:  #Class decleration\n",
    "    def __init__(self,points):  #Constructor Decleration\n",
    "        self.points=points; \n",
    "    def __str__(self):\n",
    "        ret= \"\"\n",
    "        for i in self.points:\n",
    "            ret+=str(i)+ \" - \"\n",
    "        return ret    \n",
    "    "
   ]
  },
  {
   "cell_type": "code",
   "execution_count": 50,
   "id": "ab76673e",
   "metadata": {},
   "outputs": [],
   "source": [
    "p1 = Point(5, 5) \n",
    "p2 = Point(10, 5) \n",
    "p3 = Point(5, 10) \n",
    "p = [p1, p2, p3]\n",
    "\n",
    "sh = Shape(p)"
   ]
  },
  {
   "cell_type": "raw",
   "id": "244badc9",
   "metadata": {},
   "source": []
  },
  {
   "cell_type": "code",
   "execution_count": 51,
   "id": "1d9d137c",
   "metadata": {},
   "outputs": [
    {
     "name": "stdout",
     "output_type": "stream",
     "text": [
      "[5,5] - [10,5] - [5,10] - \n"
     ]
    }
   ],
   "source": [
    "print (sh)"
   ]
  },
  {
   "cell_type": "code",
   "execution_count": 52,
   "id": "d5626d6e",
   "metadata": {},
   "outputs": [],
   "source": [
    "def print_points(self): \n",
    "    for i in self.points: \n",
    "        print(i) \n",
    "        \n",
    "Shape.print_points = print_points"
   ]
  },
  {
   "cell_type": "code",
   "execution_count": 53,
   "id": "659173e0",
   "metadata": {},
   "outputs": [
    {
     "name": "stdout",
     "output_type": "stream",
     "text": [
      "[5,5]\n",
      "[10,5]\n",
      "[5,10]\n"
     ]
    }
   ],
   "source": [
    "sh.print_points()"
   ]
  },
  {
   "cell_type": "code",
   "execution_count": 2,
   "id": "d75dd8b1",
   "metadata": {},
   "outputs": [
    {
     "ename": "NameError",
     "evalue": "name 'Shape' is not defined",
     "output_type": "error",
     "traceback": [
      "\u001b[1;31m---------------------------------------------------------------------------\u001b[0m",
      "\u001b[1;31mNameError\u001b[0m                                 Traceback (most recent call last)",
      "\u001b[1;32m<ipython-input-2-fc0aca14ad1e>\u001b[0m in \u001b[0;36m<module>\u001b[1;34m\u001b[0m\n\u001b[1;32m----> 1\u001b[1;33m \u001b[1;32mclass\u001b[0m \u001b[0mTriangle\u001b[0m\u001b[1;33m(\u001b[0m\u001b[0mShape\u001b[0m\u001b[1;33m)\u001b[0m\u001b[1;33m:\u001b[0m    \u001b[1;31m# Triangle inhertis from Shape\u001b[0m\u001b[1;33m\u001b[0m\u001b[1;33m\u001b[0m\u001b[0m\n\u001b[0m\u001b[0;32m      2\u001b[0m     \u001b[1;32mpass\u001b[0m     \u001b[1;31m# pass means I'm not going to have anything in this block\u001b[0m\u001b[1;33m\u001b[0m\u001b[1;33m\u001b[0m\u001b[0m\n",
      "\u001b[1;31mNameError\u001b[0m: name 'Shape' is not defined"
     ]
    }
   ],
   "source": []
  },
  {
   "cell_type": "code",
   "execution_count": 4,
   "id": "f4c547e7",
   "metadata": {},
   "outputs": [
    {
     "ename": "NameError",
     "evalue": "name 'Triangle' is not defined",
     "output_type": "error",
     "traceback": [
      "\u001b[1;31m---------------------------------------------------------------------------\u001b[0m",
      "\u001b[1;31mNameError\u001b[0m                                 Traceback (most recent call last)",
      "\u001b[1;32m<ipython-input-4-e6a025fe6efd>\u001b[0m in \u001b[0;36m<module>\u001b[1;34m\u001b[0m\n\u001b[1;32m----> 1\u001b[1;33m \u001b[0mt\u001b[0m \u001b[1;33m=\u001b[0m \u001b[0mTriangle\u001b[0m\u001b[1;33m(\u001b[0m\u001b[0mp\u001b[0m\u001b[1;33m)\u001b[0m\u001b[1;33m\u001b[0m\u001b[1;33m\u001b[0m\u001b[0m\n\u001b[0m",
      "\u001b[1;31mNameError\u001b[0m: name 'Triangle' is not defined"
     ]
    }
   ],
   "source": []
  },
  {
   "cell_type": "code",
   "execution_count": 5,
   "id": "da94c462",
   "metadata": {},
   "outputs": [
    {
     "ename": "NameError",
     "evalue": "name 't' is not defined",
     "output_type": "error",
     "traceback": [
      "\u001b[1;31m---------------------------------------------------------------------------\u001b[0m",
      "\u001b[1;31mNameError\u001b[0m                                 Traceback (most recent call last)",
      "\u001b[1;32m<ipython-input-5-983ccee82822>\u001b[0m in \u001b[0;36m<module>\u001b[1;34m\u001b[0m\n\u001b[1;32m----> 1\u001b[1;33m \u001b[0mt\u001b[0m\u001b[1;33m.\u001b[0m\u001b[0mprint_points\u001b[0m\u001b[1;33m(\u001b[0m\u001b[1;33m)\u001b[0m   \u001b[1;31m# automatically inherited\u001b[0m\u001b[1;33m\u001b[0m\u001b[1;33m\u001b[0m\u001b[0m\n\u001b[0m",
      "\u001b[1;31mNameError\u001b[0m: name 't' is not defined"
     ]
    }
   ],
   "source": []
  }
 ],
 "metadata": {
  "kernelspec": {
   "display_name": "Python 3",
   "language": "python",
   "name": "python3"
  },
  "language_info": {
   "codemirror_mode": {
    "name": "ipython",
    "version": 3
   },
   "file_extension": ".py",
   "mimetype": "text/x-python",
   "name": "python",
   "nbconvert_exporter": "python",
   "pygments_lexer": "ipython3",
   "version": "3.8.8"
  }
 },
 "nbformat": 4,
 "nbformat_minor": 5
}
